{
 "cells": [
  {
   "cell_type": "code",
   "execution_count": 57,
   "id": "cefda8e6",
   "metadata": {},
   "outputs": [],
   "source": [
    "import pandas as pd \n",
    "import numpy as np\n",
    "import matplotlib.pyplot as plt\n",
    "import seaborn as sns"
   ]
  },
  {
   "cell_type": "code",
   "execution_count": 58,
   "id": "f87f1854",
   "metadata": {},
   "outputs": [],
   "source": [
    "df_tourism = pd.read_csv('df_tourism_cleaned.csv') #read in cleaned df from data_prep file"
   ]
  },
  {
   "cell_type": "code",
   "execution_count": 59,
   "id": "a1e32087",
   "metadata": {},
   "outputs": [
    {
     "name": "stdout",
     "output_type": "stream",
     "text": [
      "<class 'pandas.core.frame.DataFrame'>\n",
      "RangeIndex: 3740 entries, 0 to 3739\n",
      "Data columns (total 67 columns):\n",
      " #   Column                                        Non-Null Count  Dtype  \n",
      "---  ------                                        --------------  -----  \n",
      " 0   id                                            3740 non-null   int64  \n",
      " 1   host_id                                       3740 non-null   int64  \n",
      " 2   host_since                                    3740 non-null   object \n",
      " 3   host_response_time_hours                      3740 non-null   float64\n",
      " 4   host_response_rate                            3740 non-null   float64\n",
      " 5   host_acceptance_rate                          3740 non-null   float64\n",
      " 6   host_is_superhost                             3740 non-null   float64\n",
      " 7   host_listings_count                           3740 non-null   int64  \n",
      " 8   host_total_listings_count                     3740 non-null   int64  \n",
      " 9   host_verifications                            3740 non-null   object \n",
      " 10  host_has_profile_pic                          3740 non-null   int64  \n",
      " 11  host_identity_verified                        3740 non-null   int64  \n",
      " 12  neighbourhood_name                            3740 non-null   object \n",
      " 13  latitude                                      3740 non-null   float64\n",
      " 14  longitude                                     3740 non-null   float64\n",
      " 15  property_type                                 3740 non-null   object \n",
      " 16  room_type                                     3740 non-null   object \n",
      " 17  nbr_accommodates                              3740 non-null   int64  \n",
      " 18  nbr_bathrooms                                 3740 non-null   float64\n",
      " 19  nbr_bedrooms                                  3740 non-null   float64\n",
      " 20  nbr_beds                                      3740 non-null   float64\n",
      " 21  list_amenities                                3740 non-null   object \n",
      " 22  price_CAD                                     3740 non-null   float64\n",
      " 23  minimum_nights                                3740 non-null   int64  \n",
      " 24  maximum_nights                                3740 non-null   int64  \n",
      " 25  has_availability                              3740 non-null   float64\n",
      " 26  availability_30                               3740 non-null   int64  \n",
      " 27  availability_60                               3740 non-null   int64  \n",
      " 28  availability_90                               3740 non-null   int64  \n",
      " 29  availability_365                              3740 non-null   int64  \n",
      " 30  nbr_of_reviews                                3740 non-null   int64  \n",
      " 31  nbr_of_reviews_ltm                            3740 non-null   int64  \n",
      " 32  nbr_of_reviews_l30d                           3740 non-null   int64  \n",
      " 33  availability_eoy                              3740 non-null   int64  \n",
      " 34  nbr_of_reviews_ly                             3740 non-null   int64  \n",
      " 35  estimated_occupancy_l365d                     3740 non-null   int64  \n",
      " 36  review_scores_rating                          3740 non-null   float64\n",
      " 37  instant_bookable                              3740 non-null   int64  \n",
      " 38  calculated_host_listings_count                3740 non-null   int64  \n",
      " 39  calculated_host_listings_count_entire_homes   3740 non-null   int64  \n",
      " 40  calculated_host_listings_count_private_rooms  3740 non-null   int64  \n",
      " 41  calculated_host_listings_count_shared_rooms   3740 non-null   int64  \n",
      " 42  reviews_per_month                             3740 non-null   float64\n",
      " 43  has_license                                   3740 non-null   int64  \n",
      " 44  has_review                                    3740 non-null   int64  \n",
      " 45  host_response_rate_missing                    3740 non-null   int64  \n",
      " 46  host_response_time_missing                    3740 non-null   int64  \n",
      " 47  host_acceptance_rate_missing                  3740 non-null   int64  \n",
      " 48  nbr_amenities                                 3740 non-null   int64  \n",
      " 49  has_sauna                                     3740 non-null   int64  \n",
      " 50  has_gym                                       3740 non-null   int64  \n",
      " 51  has_air_conditioning                          3740 non-null   int64  \n",
      " 52  has_heating                                   3740 non-null   int64  \n",
      " 53  has_free_parking                              3740 non-null   int64  \n",
      " 54  has_pool                                      3740 non-null   int64  \n",
      " 55  has_hot_tub                                   3740 non-null   int64  \n",
      " 56  has_balcony                                   3740 non-null   int64  \n",
      " 57  has_fireplace                                 3740 non-null   int64  \n",
      " 58  has_elevator                                  3740 non-null   int64  \n",
      " 59  has_view                                      3740 non-null   int64  \n",
      " 60  has_dishwasher                                3740 non-null   int64  \n",
      " 61  is_entire_place                               3740 non-null   int64  \n",
      " 62  is_private_room                               3740 non-null   int64  \n",
      " 63  has_shared_bath                               3740 non-null   int64  \n",
      " 64  dist_to_PVM_km                                3740 non-null   float64\n",
      " 65  hosting_years                                 3740 non-null   float64\n",
      " 66  log_price                                     3740 non-null   float64\n",
      "dtypes: float64(16), int64(45), object(6)\n",
      "memory usage: 1.9+ MB\n"
     ]
    }
   ],
   "source": [
    "df_tourism.info()"
   ]
  },
  {
   "cell_type": "code",
   "execution_count": 60,
   "id": "d15f15d4",
   "metadata": {},
   "outputs": [
    {
     "data": {
      "text/plain": [
       "Series([], dtype: int64)"
      ]
     },
     "execution_count": 60,
     "metadata": {},
     "output_type": "execute_result"
    }
   ],
   "source": [
    "df_tourism.isna().sum()[df_tourism.isna().sum() > 0] #no need for imputer later bc no NaNs"
   ]
  },
  {
   "cell_type": "code",
   "execution_count": 61,
   "id": "9cbdde56",
   "metadata": {},
   "outputs": [
    {
     "name": "stdout",
     "output_type": "stream",
     "text": [
      "host_id\n",
      "487327       55\n",
      "73995257     47\n",
      "306041574    46\n",
      "224865057    39\n",
      "408542876    39\n",
      "             ..\n",
      "143444535     2\n",
      "1401587       2\n",
      "13376114      2\n",
      "414108680     2\n",
      "5054644       2\n",
      "Name: count, Length: 487, dtype: int64\n"
     ]
    }
   ],
   "source": [
    "# host_id duplicates (GroupKFold needed for CV later on host_id))\n",
    "duplicate_hosts = df_tourism['host_id'].value_counts()\n",
    "duplicate_hosts = duplicate_hosts[duplicate_hosts > 1]\n",
    "print(duplicate_hosts)"
   ]
  },
  {
   "cell_type": "code",
   "execution_count": 62,
   "id": "7d8e6483",
   "metadata": {},
   "outputs": [
    {
     "data": {
      "text/plain": [
       "Index(['id', 'host_id', 'host_since', 'host_response_time_hours',\n",
       "       'host_response_rate', 'host_acceptance_rate', 'host_is_superhost',\n",
       "       'host_listings_count', 'host_total_listings_count',\n",
       "       'host_verifications', 'host_has_profile_pic', 'host_identity_verified',\n",
       "       'neighbourhood_name', 'latitude', 'longitude', 'property_type',\n",
       "       'room_type', 'nbr_accommodates', 'nbr_bathrooms', 'nbr_bedrooms',\n",
       "       'nbr_beds', 'list_amenities', 'price_CAD', 'minimum_nights',\n",
       "       'maximum_nights', 'has_availability', 'availability_30',\n",
       "       'availability_60', 'availability_90', 'availability_365',\n",
       "       'nbr_of_reviews', 'nbr_of_reviews_ltm', 'nbr_of_reviews_l30d',\n",
       "       'availability_eoy', 'nbr_of_reviews_ly', 'estimated_occupancy_l365d',\n",
       "       'review_scores_rating', 'instant_bookable',\n",
       "       'calculated_host_listings_count',\n",
       "       'calculated_host_listings_count_entire_homes',\n",
       "       'calculated_host_listings_count_private_rooms',\n",
       "       'calculated_host_listings_count_shared_rooms', 'reviews_per_month',\n",
       "       'has_license', 'has_review', 'host_response_rate_missing',\n",
       "       'host_response_time_missing', 'host_acceptance_rate_missing',\n",
       "       'nbr_amenities', 'has_sauna', 'has_gym', 'has_air_conditioning',\n",
       "       'has_heating', 'has_free_parking', 'has_pool', 'has_hot_tub',\n",
       "       'has_balcony', 'has_fireplace', 'has_elevator', 'has_view',\n",
       "       'has_dishwasher', 'is_entire_place', 'is_private_room',\n",
       "       'has_shared_bath', 'dist_to_PVM_km', 'hosting_years', 'log_price'],\n",
       "      dtype='object')"
      ]
     },
     "execution_count": 62,
     "metadata": {},
     "output_type": "execute_result"
    }
   ],
   "source": [
    "df_tourism.columns"
   ]
  },
  {
   "cell_type": "code",
   "execution_count": 63,
   "id": "2f2dbccc",
   "metadata": {},
   "outputs": [],
   "source": [
    "numeric_features = [\"nbr_bedrooms\",\"nbr_bathrooms\",\"nbr_beds\",\"nbr_accommodates\",\n",
    "    \"host_is_superhost\", 'instant_bookable', 'host_response_time_hours', 'host_total_listings_count',\n",
    "     'nbr_amenities', 'has_sauna', 'has_gym', 'has_air_conditioning',\n",
    "       'has_heating', 'has_free_parking', 'has_pool', 'has_hot_tub',\n",
    "       'has_balcony', 'has_fireplace', 'has_elevator', 'has_view',\n",
    "       'has_dishwasher', 'is_entire_place',\n",
    "       'has_shared_bath', 'dist_to_PVM_km', 'hosting_years',]\n",
    "\n",
    "#decided not to include categorical as most if not all have been used as binary flags \n",
    "\n",
    "X = df_tourism[numeric_features]\n",
    "y = df_tourism['price_CAD']\n",
    "groups_all = df_tourism['host_id'].values"
   ]
  },
  {
   "cell_type": "code",
   "execution_count": 64,
   "id": "89674f14",
   "metadata": {},
   "outputs": [],
   "source": [
    "#train-test split with GroupShuffleSplit to avoid data leakage on host_id (keep all listings from same host in either train or test set)\n",
    "\n",
    "from sklearn.model_selection import GroupShuffleSplit\n",
    "\n",
    "gss = GroupShuffleSplit(n_splits=1, test_size=0.2, random_state=42) #returns iterable of (train_idx, test_idx) tuples\n",
    "train_idx, test_idx = next(gss.split(X, y, groups=df_tourism['host_id']))\n",
    "X_train = X.iloc[train_idx]\n",
    "X_test = X.iloc[test_idx]\n",
    "y_train = y.iloc[train_idx]\n",
    "y_test = y.iloc[test_idx]\n",
    "groups_train, groups_test = groups_all[train_idx], groups_all[test_idx]\n"
   ]
  },
  {
   "cell_type": "code",
   "execution_count": 72,
   "id": "e6d60f7c",
   "metadata": {},
   "outputs": [],
   "source": [
    "from sklearn.pipeline import Pipeline\n",
    "from sklearn.preprocessing import StandardScaler\n",
    "from sklearn.impute import SimpleImputer\n",
    "from sklearn.ensemble import RandomForestRegressor\n",
    "from sklearn.model_selection import GroupKFold\n",
    "from sklearn.model_selection import cross_val_score\n",
    "from sklearn.compose import TransformedTargetRegressor\n",
    "\n",
    "steps_rf = [(\"imputation\", SimpleImputer(strategy='median')), (\"scaling\",StandardScaler()), (\"rf\", RandomForestRegressor(random_state=42))] #Imputing in pipeline even though no NaNs in df to keep code modular if new features added later\n",
    "pipeline_rf = Pipeline(steps_rf)\n",
    "\n",
    "#train on log-transformed target to reduce impact of outliers and then reverse back to price_CAD (does it automatically)\n",
    "transformed_target_reg = TransformedTargetRegressor(regressor=pipeline_rf,func = np.log1p, inverse_func=np.expm1) \n",
    "\n",
    "\n",
    "\n",
    "#GroupKFold CV on host_id to avoid model from learning host-specific features\n",
    "results = cross_val_score(transformed_target_reg, X_train, y_train, cv=GroupKFold(n_splits=5), groups=groups_train, scoring='neg_mean_absolute_error', n_jobs=-1)\n",
    "\n"
   ]
  },
  {
   "cell_type": "code",
   "execution_count": 76,
   "id": "308b3199",
   "metadata": {},
   "outputs": [
    {
     "data": {
      "image/png": "[encoded data removed]",
      "text/plain": [
       "<Figure size 640x480 with 1 Axes>"
      ]
     },
     "metadata": {},
     "output_type": "display_data"
    }
   ],
   "source": [
    "plt.boxplot(results)\n",
    "plt.title('Cross-Validation Results')\n",
    "plt.ylabel('Neg Mean Absolute Error')\n",
    "plt.show()"
   ]
  },
  {
   "cell_type": "code",
   "execution_count": 74,
   "id": "76e005c7",
   "metadata": {},
   "outputs": [
    {
     "name": "stdout",
     "output_type": "stream",
     "text": [
      "Mean MAE: 68.03750087370398\n",
      "Std MAE: 3.884252379129008\n"
     ]
    }
   ],
   "source": [
    "results_mae = -results  # flip sign\n",
    "print(\"Mean MAE:\", results_mae.mean())\n",
    "print(\"Std MAE:\", results_mae.std())\n"
   ]
  },
  {
   "cell_type": "code",
   "execution_count": 83,
   "id": "a10363da",
   "metadata": {},
   "outputs": [],
   "source": [
    "from sklearn.model_selection import RandomizedSearchCV\n",
    "from scipy.stats import randint, uniform\n",
    "\n",
    "param_dist = { \"regressor__rf__n_estimators\" : randint(100,900),\n",
    "               \"regressor__rf__max_depth\":randint(3, 20),\n",
    "               \"regressor__rf__min_samples_leaf\":randint(1, 7),\n",
    "               \"regressor__rf__max_features\": [0.3,0.7]\n",
    "               }\n",
    "\n",
    "random_search = RandomizedSearchCV(transformed_target_reg, param_distributions=param_dist, n_iter=15, cv=GroupKFold(n_splits=5),\n",
    "                                   scoring='neg_mean_absolute_error', n_jobs=-1, random_state=42)"
   ]
  },
  {
   "cell_type": "code",
   "execution_count": 84,
   "id": "37d40170",
   "metadata": {},
   "outputs": [
    {
     "name": "stdout",
     "output_type": "stream",
     "text": [
      "Best parameters found:  {'regressor__rf__max_depth': 11, 'regressor__rf__max_features': 0.3, 'regressor__rf__min_samples_leaf': 2, 'regressor__rf__n_estimators': 487}\n",
      "Best CV score:  65.03573420269255\n"
     ]
    }
   ],
   "source": [
    "random_search.fit(X_train, y_train, groups=groups_train)\n",
    "print(\"Best parameters found: \", random_search.best_params_)\n",
    "print(\"Best CV score: \", -random_search.best_score_)\n",
    "best_model = random_search.best_estimator_"
   ]
  },
  {
   "cell_type": "code",
   "execution_count": 85,
   "id": "4487ac46",
   "metadata": {},
   "outputs": [
    {
     "name": "stdout",
     "output_type": "stream",
     "text": [
      "Baseline MAE: 104.0646882294098\n"
     ]
    }
   ],
   "source": [
    "from sklearn.metrics import mean_absolute_error\n",
    "import numpy as np\n",
    "\n",
    "baseline_pred = np.repeat(y_train.median(), len(y_train))\n",
    "baseline_mae = mean_absolute_error(y_train, baseline_pred)\n",
    "print(\"Baseline MAE:\", baseline_mae)\n"
   ]
  },
  {
   "cell_type": "code",
   "execution_count": null,
   "id": "9122ad4d",
   "metadata": {},
   "outputs": [
    {
     "name": "stdout",
     "output_type": "stream",
     "text": [
      "Test MAE: 29.92498160527195\n"
     ]
    }
   ],
   "source": [
    "best_model.fit(X_test, y_test)\n",
    "y_pred = best_model.predict(X_test)\n",
    "test_mae = mean_absolute_error(y_test, y_pred)\n",
    "print(\"Test MAE:\", test_mae) #off by 30$ on average from true price "
   ]
  }
 ],
 "metadata": {
  "kernelspec": {
   "display_name": "la_liga (Python 3.11)",
   "language": "python",
   "name": "la_liga"
  },
  "language_info": {
   "codemirror_mode": {
    "name": "ipython",
    "version": 3
   },
   "file_extension": ".py",
   "mimetype": "text/x-python",
   "name": "python",
   "nbconvert_exporter": "python",
   "pygments_lexer": "ipython3",
   "version": "3.11.13"
  }
 },
 "nbformat": 4,
 "nbformat_minor": 5
}
